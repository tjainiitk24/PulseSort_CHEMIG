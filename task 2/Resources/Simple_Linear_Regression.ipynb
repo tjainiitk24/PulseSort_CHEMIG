{
  "cells": [
    {
      "cell_type": "code",
      "execution_count": null,
      "metadata": {
        "id": "bB1wKmbGC5rI"
      },
      "outputs": [],
      "source": []
    },
    {
      "cell_type": "markdown",
      "metadata": {
        "id": "PMo-S0LqExQU"
      },
      "source": [
        "# Model evaluation using MSE(mean square error), RMSE(Root mean square error), MAE(mean absolute error)"
      ]
    },
    {
      "cell_type": "markdown",
      "metadata": {
        "id": "U6hftRodE9fA"
      },
      "source": [
        "MSE\n",
        "\n",
        "- Formula = ((i=1 to N)∑(y_i-y_model_prediacted)^2)/N\n",
        "- least useful\n",
        "- if MSE=1 - worst model\n",
        "- if MSE=0 - ideal model\n",
        "- can over estimate model's badness in case of noisy data\n",
        "- can under estimate model's badness if errors are smaller than 1\n",
        "- used when there are no or less outliers in dataset"
      ]
    },
    {
      "cell_type": "code",
      "execution_count": 1,
      "metadata": {
        "id": "nzSxTQTUF6xl"
      },
      "outputs": [
        {
          "ename": "NameError",
          "evalue": "name 'y_true' is not defined",
          "output_type": "error",
          "traceback": [
            "\u001b[1;31m---------------------------------------------------------------------------\u001b[0m",
            "\u001b[1;31mNameError\u001b[0m                                 Traceback (most recent call last)",
            "Cell \u001b[1;32mIn[1], line 4\u001b[0m\n\u001b[0;32m      1\u001b[0m \u001b[38;5;66;03m# %pip install scikit-learn\u001b[39;00m\n\u001b[0;32m      3\u001b[0m \u001b[38;5;28;01mfrom\u001b[39;00m \u001b[38;5;21;01msklearn\u001b[39;00m\u001b[38;5;21;01m.\u001b[39;00m\u001b[38;5;21;01mmetrics\u001b[39;00m \u001b[38;5;28;01mimport\u001b[39;00m mean_squared_error\n\u001b[1;32m----> 4\u001b[0m mse \u001b[38;5;241m=\u001b[39m mean_squared_error(y_true, y_predicted)\n\u001b[0;32m      5\u001b[0m \u001b[38;5;28mprint\u001b[39m(\u001b[38;5;124m\"\u001b[39m\u001b[38;5;124mMean Squared Error:\u001b[39m\u001b[38;5;124m\"\u001b[39m, mse)\n",
            "\u001b[1;31mNameError\u001b[0m: name 'y_true' is not defined"
          ]
        }
      ],
      "source": [
        "# %pip install scikit-learn\n",
        "\n",
        "from sklearn.metrics import mean_squared_error\n",
        "mse = mean_squared_error(y_true, y_predicted)\n",
        "print(\"Mean Squared Error:\", mse)"
      ]
    },
    {
      "cell_type": "markdown",
      "metadata": {
        "id": "O1zO2W8OGhvu"
      },
      "source": [
        "RMSE\n",
        "- Formula : sqrt(MSE)\n",
        "- concentration of data around best-fit line"
      ]
    },
    {
      "cell_type": "markdown",
      "metadata": {
        "id": "R6Dh1rshHLA6"
      },
      "source": [
        "MAE\n",
        "- ((i=1 to N)∑|y_i-y_model_prediacted|)/N\n",
        "- not as that sensitive to outliers\n",
        "- so used if we have outliers in dataset"
      ]
    },
    {
      "cell_type": "code",
      "execution_count": null,
      "metadata": {
        "id": "NjGCBN1GIY4g"
      },
      "outputs": [],
      "source": [
        "from sklearn.mertics import mean_absolute_error\n",
        "mse = mean_absolute_error(y_true, y_predicted)\n",
        "print(\"Mean Absolute Error:\", mse)"
      ]
    }
  ],
  "metadata": {
    "colab": {
      "provenance": []
    },
    "kernelspec": {
      "display_name": "base",
      "language": "python",
      "name": "python3"
    },
    "language_info": {
      "codemirror_mode": {
        "name": "ipython",
        "version": 3
      },
      "file_extension": ".py",
      "mimetype": "text/x-python",
      "name": "python",
      "nbconvert_exporter": "python",
      "pygments_lexer": "ipython3",
      "version": "3.12.7"
    }
  },
  "nbformat": 4,
  "nbformat_minor": 0
}
